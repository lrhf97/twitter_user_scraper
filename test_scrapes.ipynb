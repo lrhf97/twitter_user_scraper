{
 "cells": [
  {
   "cell_type": "code",
   "execution_count": 1,
   "source": [
    "# Module imports \n",
    "import tweepy\n",
    "import time\n",
    "import pandas as pd\n",
    "import numpy as np\n",
    "import json\n",
    "import time\n",
    "from random import randint, random\n",
    "from googlesearch import search as gsearch\n",
    "import matplotlib.pyplot as plt\n",
    "import seaborn as sns\n",
    "%matplotlib inline\n",
    "import pathlib\n",
    "import os\n",
    "from dotenv import load_dotenv\n",
    "\n",
    "# name the file we want\n",
    "env_file_name = 'lrhf97_twit_cred.env'\n",
    "parent_dir = pathlib.Path.cwd().parent\n",
    "\n",
    "env_path = parent_dir.joinpath(env_file_name)\n",
    "\n",
    "load_dotenv(env_path)\n",
    "test_cred = os.getenv(\"test_cred\")\n",
    "\n",
    "api_key = os.getenv(\"API_KEY\")\n",
    "secret_key = os.getenv(\"API_SECRET\")\n",
    "access_token = ''\n",
    "secret_token = ''\n",
    "\n",
    "def authenticate(api_key, secret_key, access_token, secret_token):\n",
    "\n",
    "    auth = tweepy.OAuthHandler(api_key, secret_key)\n",
    "    auth.set_access_token(access_token, secret_token)\n",
    "    api = tweepy.API(auth, \n",
    "                     wait_on_rate_limit=True, \n",
    "                     wait_on_rate_limit_notify=True)\n",
    "  \n",
    "    return api\n",
    "\n",
    "\n",
    "api = authenticate(api_key, secret_key, access_token, secret_token)"
   ],
   "outputs": [],
   "metadata": {}
  },
  {
   "cell_type": "code",
   "execution_count": null,
   "source": [],
   "outputs": [],
   "metadata": {}
  }
 ],
 "metadata": {
  "orig_nbformat": 4,
  "language_info": {
   "name": "python",
   "version": "3.9.7",
   "mimetype": "text/x-python",
   "codemirror_mode": {
    "name": "ipython",
    "version": 3
   },
   "pygments_lexer": "ipython3",
   "nbconvert_exporter": "python",
   "file_extension": ".py"
  },
  "kernelspec": {
   "name": "python3",
   "display_name": "Python 3.9.7 64-bit ('twit_env': conda)"
  },
  "interpreter": {
   "hash": "d731139d9ad7e7749c450c5b8b50ae597506969cf6798becac77e3dbff3ddb16"
  }
 },
 "nbformat": 4,
 "nbformat_minor": 2
}