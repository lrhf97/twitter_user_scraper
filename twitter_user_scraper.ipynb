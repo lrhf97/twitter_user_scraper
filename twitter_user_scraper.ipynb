{
  "nbformat": 4,
  "nbformat_minor": 2,
  "metadata": {
    "colab": {
      "name": "twitter_user_scraper.ipynb",
      "version": "0.3.2",
      "provenance": [],
      "collapsed_sections": []
    },
    "kernelspec": {
      "name": "python3",
      "display_name": "Python 3.9.7 64-bit ('twit_env': conda)"
    },
    "language_info": {
      "name": "python",
      "version": "3.9.7",
      "mimetype": "text/x-python",
      "codemirror_mode": {
        "name": "ipython",
        "version": 3
      },
      "pygments_lexer": "ipython3",
      "nbconvert_exporter": "python",
      "file_extension": ".py"
    },
    "interpreter": {
      "hash": "d731139d9ad7e7749c450c5b8b50ae597506969cf6798becac77e3dbff3ddb16"
    }
  },
  "cells": [
    {
      "cell_type": "code",
      "execution_count": null,
      "source": [],
      "outputs": [],
      "metadata": {}
    },
    {
      "cell_type": "markdown",
      "source": [
        "# A Scraper for Twitter User Data \n",
        "\n",
        "This project utilizes the googlesearch module with Tweepy to create a dataset of Twitter users, sourced from user-generated Twitter lists that match a given keyword. By using lists like so, we can bulk identify accounts that match a keyword without having to trawl through user attributes like bios. Tweepy allows access to a plethora of user/status/list data, so once lists and the users contained in the lists have been scraped, the breadth of data that can be collected is expansive. \n",
        "\n",
        "For demonstration purposes, the project here pulls in favorite and retweet actions and creates a measurement of engagement for each user collected. \n",
        "\n",
        "This script takes several minutes to run, depending on how intensive the Google search and Twitter API requests are. For Google, a conservative random sleep timer is used to best prevent timeouts. For Twitter, the API is instantiated using wait_on_rate_limit=True, meaning that if the API's wait limit is exceeded, the function will wait until the API is available again rather than throwing an error. \n",
        "\n",
        "The project requires access to Twitter's API, so you will need to a developer account with Twitter. Set up an account and project here for free: https://developer.twitter.com/en/apply-for-access.\n",
        "\n",
        "The googlesearch module requires installation. Retrieve it here: https://github.com/MarioVilas/googlesearch. \n",
        "\n",
        "Notes:\n",
        "- The results_to_obtain parameter for scrape_influencers_use_google() is currently set to 50. Increase the number to retrieve more lists and more users. If the number is increased significantly, set the sleep time between each URL to a longer period to prevent being locked out by Google. \n",
        "- The list_contains_string parameter is the keyword you will use to search for lists. \n",
        "\n"
      ],
      "metadata": {
        "id": "xMW5RIhrJfq4",
        "colab_type": "text"
      }
    },
    {
      "cell_type": "code",
      "execution_count": 4,
      "source": [
        "# Module imports \n",
        "import tweepy\n",
        "import time\n",
        "import pandas as pd\n",
        "import numpy as np\n",
        "import json\n",
        "import time\n",
        "from random import randint, random\n",
        "from googlesearch import search as gsearch\n",
        "import matplotlib.pyplot as plt\n",
        "import seaborn as sns\n",
        "%matplotlib inline\n",
        "import pathlib\n",
        "import os\n",
        "from dotenv import load_dotenv\n"
      ],
      "outputs": [],
      "metadata": {
        "id": "bQkdi9K3JBx1",
        "colab_type": "code",
        "colab": {}
      }
    },
    {
      "cell_type": "markdown",
      "source": [
        "Authenticating to Twitter and creating the API connection.\n",
        "\n",
        "Assign the keys for your Twitter developer account to the approriate variables. "
      ],
      "metadata": {
        "id": "gqg7pcHspJ98",
        "colab_type": "text"
      }
    },
    {
      "cell_type": "code",
      "execution_count": 8,
      "source": [
        "# name the file we want\n",
        "env_file_name = 'lrhf97_twit_cred.env'\n",
        "parent_dir = pathlib.Path.cwd().parent\n",
        "\n",
        "env_path = parent_dir.joinpath(env_file_name)\n",
        "\n",
        "load_dotenv(env_path)\n",
        "test_cred = os.getenv(\"test_cred\")\n",
        "print(test_cred)"
      ],
      "outputs": [
        {
          "output_type": "stream",
          "name": "stdout",
          "text": [
            "secretpassword\n"
          ]
        }
      ],
      "metadata": {}
    },
    {
      "cell_type": "code",
      "execution_count": 9,
      "source": [
        "api_key = os.getenv(\"API_KEY\")\n",
        "secret_key = os.getenv(\"API_SECRET\")\n",
        "access_token = ''\n",
        "secret_token = ''\n",
        "\n",
        "def authenticate(api_key, secret_key, access_token, secret_token):\n",
        "\n",
        "    auth = tweepy.OAuthHandler(api_key, secret_key)\n",
        "    auth.set_access_token(access_token, secret_token)\n",
        "    api = tweepy.API(auth, \n",
        "                     wait_on_rate_limit=True, \n",
        "                     wait_on_rate_limit_notify=True)\n",
        "  \n",
        "    return api\n",
        "\n",
        "\n",
        "api = authenticate(api_key, secret_key, access_token, secret_token)"
      ],
      "outputs": [],
      "metadata": {
        "id": "Z91j6XfBJSlc",
        "colab_type": "code",
        "colab": {}
      }
    },
    {
      "cell_type": "markdown",
      "source": [
        "Some api calls will result in a rate limit error. While this script in it's current iteration does not require this now, the function below will handle those if needed for any Tweepy requests. "
      ],
      "metadata": {
        "id": "2vWZeBZZo8FC",
        "colab_type": "text"
      }
    },
    {
      "cell_type": "code",
      "execution_count": 10,
      "source": [
        "def limit_handled(cursor):\n",
        "    \n",
        "    while True:\n",
        "        try:\n",
        "            yield cursor.next()\n",
        "        except tweepy.RateLimitError:\n",
        "            time.sleep(2)\n",
        "            continue"
      ],
      "outputs": [],
      "metadata": {
        "id": "_KLxo3yOjxZL",
        "colab_type": "code",
        "colab": {}
      }
    },
    {
      "cell_type": "markdown",
      "source": [
        "Parameter notes:\n",
        "- list_contains_string - the list keyword to search for\n",
        "- results to obtain - number of results to be recorded\n",
        "\n",
        "Requesting a large number of results will likely cause Google to temporarily prevent access. "
      ],
      "metadata": {
        "id": "wa_p7hr_pWml",
        "colab_type": "text"
      }
    },
    {
      "cell_type": "code",
      "execution_count": 16,
      "source": [
        "\n",
        "def scrape_lists_with_google(keyword_string, results_to_obtain):\n",
        "\n",
        "    list_urls = []\n",
        "\n",
        "    urls_checked = 0\n",
        "    urls_appended = 0\n",
        "    \n",
        "    # Perform the Google search, checking only the twitter.com domain\n",
        "    for url in gsearch(\"site:twitter.com lists \" + keyword_string,\n",
        "                    #   start=urls_checked, \n",
        "                      num_results=results_to_obtain, \n",
        "                    #   pause=randint(3, 5)\n",
        "                    ):\n",
        "        \n",
        "        # Take URLs that contain Twitter's '/lists' subdomain\n",
        "        if '/lists/' in url:\n",
        "            list_urls.append(url)\n",
        "            urls_appended += 1\n",
        "            urls_checked += 1\n",
        "\n",
        "        # If Google is returning 5x as many non-list results as lists, break search\n",
        "        if urls_checked / urls_appended > 5:\n",
        "            break\n",
        "        \n",
        "        # If we reach our results # request limit, break the search\n",
        "        elif urls_appended >= results_to_obtain:\n",
        "            break\n",
        "        \n",
        "        # Sleep to prevent timeouts\n",
        "        time.sleep(randint(3, 5))\n",
        "\n",
        "    list_urls = [url[8:] for url in list_urls] # Removes leading https://\n",
        "\n",
        "    return list_urls\n",
        "  \n",
        "\n",
        "list_urls = scrape_lists_with_google(\"influencers\", 10)"
      ],
      "outputs": [],
      "metadata": {
        "id": "hHlsPsEVDYZ9",
        "colab_type": "code",
        "colab": {}
      }
    },
    {
      "cell_type": "code",
      "execution_count": 17,
      "source": [
        "list_urls\n"
      ],
      "outputs": [
        {
          "output_type": "execute_result",
          "data": {
            "text/plain": [
              "['twitter.com/trackmaven/lists/top-marketing-influencers',\n",
              " 'twitter.com/up_slide/lists/m-a-influencers',\n",
              " 'twitter.com/conversationage/lists/influencer-marketing',\n",
              " 'twitter.com/workmommywork/lists/influencers',\n",
              " 'twitter.com/soundhoundinc/lists/40-voice-influencers-2020-21649',\n",
              " 'twitter.com/politicopro/lists/defense-influencers',\n",
              " 'twitter.com/_bottlerocket/lists/wearables-influencers',\n",
              " 'twitter.com/simplymeasured/lists/top-twitter-influencers',\n",
              " 'twitter.com/uclg_org/lists/citieswewant']"
            ]
          },
          "metadata": {},
          "execution_count": 17
        }
      ],
      "metadata": {}
    },
    {
      "cell_type": "markdown",
      "source": [
        "Getting the individual users and associated attributes is made easy with Tweepy. Using the API created earlier, this function returns a dataframe of individual users and associated Twitter attributes. "
      ],
      "metadata": {
        "id": "7nYmaoiCre3V",
        "colab_type": "text"
      }
    },
    {
      "cell_type": "code",
      "execution_count": 18,
      "source": [
        "# Get user id, screen name, bio, follower count\n",
        "\n",
        "def get_users_in_lists(list_urls):\n",
        "  \n",
        "    users_list = []\n",
        "    bios_list = []\n",
        "    desc_list = []\n",
        "    follower_count_list = []\n",
        "    \n",
        "    for tw_list in list_urls:\n",
        "    \n",
        "        user = tw_list.split('/')[1]\n",
        "        list_name = tw_list.split('/')[3]\n",
        "\n",
        "        # Using Tweepy api, getting json of all users in list\n",
        "        list_members_output = api.list_members(user, list_name)\n",
        "\n",
        "        # Parsing json data and appending to appropriate lists instantiated above\n",
        "        for user_id in list_members_output:\n",
        "            users_list.append(user_id._json['id'])\n",
        "            bios_list.append(user_id._json['screen_name'])\n",
        "            desc_list.append(user_id._json['description'])\n",
        "            follower_count_list.append(user_id._json['followers_count'])\n",
        "            \n",
        "    zipped_data = zip(users_list, bios_list, desc_list, follower_count_list)\n",
        "    \n",
        "    # Creates a pandas dataframe containing user attributes\n",
        "    output_df = pd.DataFrame(list(zipped_data), columns=['user_id', \n",
        "                                                         'screen_name',\n",
        "                                                         'bio',\n",
        "                                                         'followers'])\n",
        "    # Dropping duplicate users if they were in multiple lists\n",
        "    output_df.drop_duplicates('user_id')\n",
        "    \n",
        "    output_df.set_index('user_id', inplace=True)\n",
        "    \n",
        "    return output_df\n",
        "  \n",
        "\n",
        "influencers_df = get_users_in_lists(list_urls)"
      ],
      "outputs": [],
      "metadata": {
        "id": "tSSWgKTCi-0A",
        "colab_type": "code",
        "colab": {}
      }
    },
    {
      "cell_type": "code",
      "execution_count": 19,
      "source": [
        "influencers_df.sort_values(by='followers', ascending=False).head()"
      ],
      "outputs": [
        {
          "output_type": "execute_result",
          "data": {
            "text/html": [
              "<div>\n",
              "<style scoped>\n",
              "    .dataframe tbody tr th:only-of-type {\n",
              "        vertical-align: middle;\n",
              "    }\n",
              "\n",
              "    .dataframe tbody tr th {\n",
              "        vertical-align: top;\n",
              "    }\n",
              "\n",
              "    .dataframe thead th {\n",
              "        text-align: right;\n",
              "    }\n",
              "</style>\n",
              "<table border=\"1\" class=\"dataframe\">\n",
              "  <thead>\n",
              "    <tr style=\"text-align: right;\">\n",
              "      <th></th>\n",
              "      <th>screen_name</th>\n",
              "      <th>bio</th>\n",
              "      <th>followers</th>\n",
              "    </tr>\n",
              "    <tr>\n",
              "      <th>user_id</th>\n",
              "      <th></th>\n",
              "      <th></th>\n",
              "      <th></th>\n",
              "    </tr>\n",
              "  </thead>\n",
              "  <tbody>\n",
              "    <tr>\n",
              "      <th>44196397</th>\n",
              "      <td>elonmusk</td>\n",
              "      <td></td>\n",
              "      <td>59986493</td>\n",
              "    </tr>\n",
              "    <tr>\n",
              "      <th>50393960</th>\n",
              "      <td>BillGates</td>\n",
              "      <td>Sharing things I'm learning about the world’s ...</td>\n",
              "      <td>55513789</td>\n",
              "    </tr>\n",
              "    <tr>\n",
              "      <th>21982720</th>\n",
              "      <td>ariannahuff</td>\n",
              "      <td>Mother. Sister. @HuffPost Founder. Founder &amp; C...</td>\n",
              "      <td>2827371</td>\n",
              "    </tr>\n",
              "    <tr>\n",
              "      <th>36711022</th>\n",
              "      <td>DanRather</td>\n",
              "      <td>Journalist, storyteller, lifelong reader. Texa...</td>\n",
              "      <td>2222471</td>\n",
              "    </tr>\n",
              "    <tr>\n",
              "      <th>25458378</th>\n",
              "      <td>AskAaronLee</td>\n",
              "      <td>Regional Manager @agorapulse. Trying to perfec...</td>\n",
              "      <td>1037336</td>\n",
              "    </tr>\n",
              "  </tbody>\n",
              "</table>\n",
              "</div>"
            ],
            "text/plain": [
              "          screen_name                                                bio  \\\n",
              "user_id                                                                    \n",
              "44196397     elonmusk                                                      \n",
              "50393960    BillGates  Sharing things I'm learning about the world’s ...   \n",
              "21982720  ariannahuff  Mother. Sister. @HuffPost Founder. Founder & C...   \n",
              "36711022    DanRather  Journalist, storyteller, lifelong reader. Texa...   \n",
              "25458378  AskAaronLee  Regional Manager @agorapulse. Trying to perfec...   \n",
              "\n",
              "          followers  \n",
              "user_id              \n",
              "44196397   59986493  \n",
              "50393960   55513789  \n",
              "21982720    2827371  \n",
              "36711022    2222471  \n",
              "25458378    1037336  "
            ]
          },
          "metadata": {},
          "execution_count": 19
        }
      ],
      "metadata": {
        "id": "vZbjS6kuSfwm",
        "colab_type": "code",
        "outputId": "ac28dc5e-252b-4131-c872-72beee96ed47",
        "colab": {
          "base_uri": "https://localhost:8080/",
          "height": 235
        }
      }
    },
    {
      "cell_type": "markdown",
      "source": [
        "Accounts which are protected will not be accessible for the majority of Tweepy user object functionality. These need to be removed. \n",
        "\n",
        "When the API connection was built at the start of the script, the wait_on_rate_limit and wait_on_rate_limit_notify parameters were set to true. While those will catch a wait limit error, notify us, and go again when ready, this function checks a lot of users very quickly and will hit the rate limit most of the time if left alone. A sleep timer for each user has been set as a random float up to 0.2 (representing sleep up to 0.2s). This will not prevent rate limit errors 100% of the time but strikes a balance between error prevention and run time. \n",
        "\n",
        "Run time for this function is as such maximized at 0.2 * n_users seconds.\n"
      ],
      "metadata": {
        "id": "nh8Gr_O-_Xdi",
        "colab_type": "text"
      }
    },
    {
      "cell_type": "code",
      "execution_count": 20,
      "source": [
        "def remove_protected_accounts(users_df):\n",
        "    \n",
        "    working_df = users_df.copy()\n",
        "    protected_ids = []\n",
        "    \n",
        "    counter = 0\n",
        "    for index, row in users_df.iterrows():\n",
        "        user = api.get_user(id=index)._json\n",
        "        if user['protected'] == True:\n",
        "            protected_ids.append(index)\n",
        "        counter += 1\n",
        "        if counter % 100 == 0:\n",
        "            print(str(counter) + '/' + str(len(working_df)) + ' IDs checked')\n",
        "            print('Protected IDs found:', len(protected_ids), '\\n')\n",
        "        # Sleeping for up to 0.2s helps not to exceed Tweepy's rate limit.\n",
        "        time.sleep(random() / 5)\n",
        "    \n",
        "    working_df.drop(labels=protected_ids, inplace=True)\n",
        "    working_df.reset_index(inplace=True)\n",
        "            \n",
        "    return working_df\n",
        "            \n",
        "\n",
        "influencers_df = remove_protected_accounts(influencers_df)"
      ],
      "outputs": [
        {
          "output_type": "stream",
          "name": "stdout",
          "text": [
            "100/155 IDs checked\n",
            "Protected IDs found: 1 \n",
            "\n"
          ]
        }
      ],
      "metadata": {
        "id": "F_W70DGAbJUX",
        "colab_type": "code",
        "outputId": "02062895-cabc-4fcc-9e97-a299b4a635c8",
        "colab": {
          "base_uri": "https://localhost:8080/",
          "height": 119
        }
      }
    },
    {
      "cell_type": "markdown",
      "source": [
        "Now protected accounts have been removed, engagements with users' tweets can be examined. We can't access actual impressions for tweets, but we can access some engagement actions (favorites, retweets) for tweets. By looking at engagement actions in relation to the number of followers a user has, we can see how much their audience is engaged with that user's content. \n",
        "\n",
        "While this particular notebook just overviews the scraping code, it's a helpful excercise to generate some additional data to demonstrate a use case. As we've been looking at influencers for the purposes of this script, we can get a fairly good measurement of how effective an influencer might be by looking at metrics like this. \n",
        "\n"
      ],
      "metadata": {
        "id": "GTlVXskl176A",
        "colab_type": "text"
      }
    },
    {
      "cell_type": "code",
      "execution_count": 21,
      "source": [
        "def calc_median_favorites(user_id):\n",
        "    \n",
        "    fav_list = []\n",
        "    tweets = api.user_timeline(id=user_id, count=100)\n",
        "    \n",
        "    for tweet in tweets:\n",
        "        # Remove retweets\n",
        "        if tweet._json['text'].startswith('RT'):\n",
        "            continue\n",
        "        # Remove replies\n",
        "        elif tweet._json['text'].startswith('@'):\n",
        "            continue\n",
        "        else:\n",
        "            fav_list.append(tweet._json['favorite_count'])\n",
        "    \n",
        "    time.sleep(random() / 5)\n",
        "    \n",
        "    return np.median(fav_list)  \n",
        "\n",
        "\n",
        "influencers_df['median_favs'] = influencers_df['user_id'].apply(lambda x: calc_median_favorites(x))"
      ],
      "outputs": [
        {
          "output_type": "stream",
          "name": "stderr",
          "text": [
            "/home/lrhf97/anaconda3/envs/twit_env/lib/python3.9/site-packages/numpy/core/fromnumeric.py:3440: RuntimeWarning: Mean of empty slice.\n",
            "  return _methods._mean(a, axis=axis, dtype=dtype,\n"
          ]
        }
      ],
      "metadata": {
        "id": "0fPlPDdVZOzz",
        "colab_type": "code",
        "outputId": "a56bedcd-9a9e-4588-bbce-553ee7898588",
        "colab": {
          "base_uri": "https://localhost:8080/",
          "height": 51
        }
      }
    },
    {
      "cell_type": "code",
      "execution_count": 22,
      "source": [
        "def calc_median_retweets(user_id):\n",
        "    \n",
        "    rt_list = []\n",
        "    tweets = api.user_timeline(id=user_id, count=100)\n",
        "    \n",
        "    for tweet in tweets:\n",
        "        if tweet._json['text'].startswith('RT'):\n",
        "            continue\n",
        "        else:\n",
        "            rt_list.append(tweet._json['retweet_count'])\n",
        "    \n",
        "    time.sleep(random() / 5)\n",
        "    \n",
        "    return np.median(rt_list)  \n",
        "\n",
        "\n",
        "influencers_df['median_rts'] = influencers_df['user_id'].apply(lambda x: calc_median_retweets(x))"
      ],
      "outputs": [],
      "metadata": {
        "id": "1apvWYVwalN9",
        "colab_type": "code",
        "outputId": "d4467c89-add6-4b8e-983c-10bd8a1d40af",
        "colab": {
          "base_uri": "https://localhost:8080/",
          "height": 51
        }
      }
    },
    {
      "cell_type": "code",
      "execution_count": 23,
      "source": [
        "influencers_df[5:10]"
      ],
      "outputs": [
        {
          "output_type": "execute_result",
          "data": {
            "text/html": [
              "<div>\n",
              "<style scoped>\n",
              "    .dataframe tbody tr th:only-of-type {\n",
              "        vertical-align: middle;\n",
              "    }\n",
              "\n",
              "    .dataframe tbody tr th {\n",
              "        vertical-align: top;\n",
              "    }\n",
              "\n",
              "    .dataframe thead th {\n",
              "        text-align: right;\n",
              "    }\n",
              "</style>\n",
              "<table border=\"1\" class=\"dataframe\">\n",
              "  <thead>\n",
              "    <tr style=\"text-align: right;\">\n",
              "      <th></th>\n",
              "      <th>user_id</th>\n",
              "      <th>screen_name</th>\n",
              "      <th>bio</th>\n",
              "      <th>followers</th>\n",
              "      <th>median_favs</th>\n",
              "      <th>median_rts</th>\n",
              "    </tr>\n",
              "  </thead>\n",
              "  <tbody>\n",
              "    <tr>\n",
              "      <th>5</th>\n",
              "      <td>292418292</td>\n",
              "      <td>FeldmanCreative</td>\n",
              "      <td>Digital marketing super freak \\n#content marke...</td>\n",
              "      <td>49570</td>\n",
              "      <td>1.0</td>\n",
              "      <td>0.0</td>\n",
              "    </tr>\n",
              "    <tr>\n",
              "      <th>6</th>\n",
              "      <td>223666748</td>\n",
              "      <td>j1berger</td>\n",
              "      <td>Author THE CATALYST https://t.co/N92ZWuooZk CO...</td>\n",
              "      <td>31689</td>\n",
              "      <td>11.0</td>\n",
              "      <td>0.0</td>\n",
              "    </tr>\n",
              "    <tr>\n",
              "      <th>7</th>\n",
              "      <td>208271692</td>\n",
              "      <td>SociallySorted</td>\n",
              "      <td>Founder of Socially Sorted | Visual Social Med...</td>\n",
              "      <td>46830</td>\n",
              "      <td>1.0</td>\n",
              "      <td>0.0</td>\n",
              "    </tr>\n",
              "    <tr>\n",
              "      <th>8</th>\n",
              "      <td>142012799</td>\n",
              "      <td>Allen</td>\n",
              "      <td>Author of The Creative Curve 📚 Angel invest in...</td>\n",
              "      <td>15707</td>\n",
              "      <td>4.0</td>\n",
              "      <td>0.0</td>\n",
              "    </tr>\n",
              "    <tr>\n",
              "      <th>9</th>\n",
              "      <td>92096544</td>\n",
              "      <td>TheSalesLion</td>\n",
              "      <td>Acclaimed International Keynote Speaker. Autho...</td>\n",
              "      <td>23592</td>\n",
              "      <td>9.5</td>\n",
              "      <td>0.0</td>\n",
              "    </tr>\n",
              "  </tbody>\n",
              "</table>\n",
              "</div>"
            ],
            "text/plain": [
              "     user_id      screen_name  \\\n",
              "5  292418292  FeldmanCreative   \n",
              "6  223666748         j1berger   \n",
              "7  208271692   SociallySorted   \n",
              "8  142012799            Allen   \n",
              "9   92096544     TheSalesLion   \n",
              "\n",
              "                                                 bio  followers  median_favs  \\\n",
              "5  Digital marketing super freak \\n#content marke...      49570          1.0   \n",
              "6  Author THE CATALYST https://t.co/N92ZWuooZk CO...      31689         11.0   \n",
              "7  Founder of Socially Sorted | Visual Social Med...      46830          1.0   \n",
              "8  Author of The Creative Curve 📚 Angel invest in...      15707          4.0   \n",
              "9  Acclaimed International Keynote Speaker. Autho...      23592          9.5   \n",
              "\n",
              "   median_rts  \n",
              "5         0.0  \n",
              "6         0.0  \n",
              "7         0.0  \n",
              "8         0.0  \n",
              "9         0.0  "
            ]
          },
          "metadata": {},
          "execution_count": 23
        }
      ],
      "metadata": {
        "id": "35abBVjAVTlf",
        "colab_type": "code",
        "outputId": "ecad73b9-18ce-4f28-fd5f-de0bc2f14f7a",
        "colab": {
          "base_uri": "https://localhost:8080/",
          "height": 204
        }
      }
    },
    {
      "cell_type": "markdown",
      "source": [
        "We've likely got a notification above for a RuntimeWarning. This is numpy trying to take the median of of an empty array, that is, accounts that have never tweeted. Those accounts are visbile in the data as they have nan values under median_favs and/or median_rts. We can check to see if any exist using a heatmap for null values. "
      ],
      "metadata": {
        "id": "rAtWyt4KKf7e",
        "colab_type": "text"
      }
    },
    {
      "cell_type": "code",
      "execution_count": 24,
      "source": [
        "sns.heatmap(influencers_df.isnull())"
      ],
      "outputs": [
        {
          "output_type": "execute_result",
          "data": {
            "text/plain": [
              "<AxesSubplot:>"
            ]
          },
          "metadata": {},
          "execution_count": 24
        },
        {
          "output_type": "display_data",
          "data": {
            "image/png": "[encoded data removed]",
            "text/plain": [
              "<Figure size 432x288 with 2 Axes>"
            ]
          },
          "metadata": {
            "needs_background": "light"
          }
        }
      ],
      "metadata": {
        "id": "4pgOyK1p3nt1",
        "colab_type": "code",
        "outputId": "83a8f992-6cdd-4697-cbb6-e1dadb16ed04",
        "colab": {
          "base_uri": "https://localhost:8080/",
          "height": 286
        }
      }
    },
    {
      "cell_type": "markdown",
      "source": [
        "Since there are nulls, we'll remove those and be left with a clean dataset. Creating a heatmap again confirms this. "
      ],
      "metadata": {
        "id": "naaOwkn_bVBW",
        "colab_type": "text"
      }
    },
    {
      "cell_type": "code",
      "execution_count": 25,
      "source": [
        "influencers_df = influencers_df.loc[~influencers_df['median_favs'].isnull()]\n",
        "sns.heatmap(influencers_df.isnull())"
      ],
      "outputs": [
        {
          "output_type": "execute_result",
          "data": {
            "text/plain": [
              "<AxesSubplot:>"
            ]
          },
          "metadata": {},
          "execution_count": 25
        },
        {
          "output_type": "display_data",
          "data": {
            "image/png": "[encoded data removed]",
            "text/plain": [
              "<Figure size 432x288 with 2 Axes>"
            ]
          },
          "metadata": {
            "needs_background": "light"
          }
        }
      ],
      "metadata": {
        "id": "nWKLf31ubZ2g",
        "colab_type": "code",
        "outputId": "7c5f1b85-0eaa-4cb4-ab68-b5b6691e5064",
        "colab": {
          "base_uri": "https://localhost:8080/",
          "height": 286
        }
      }
    },
    {
      "cell_type": "markdown",
      "source": [
        "Now, to create some kind of engagement metric. \n",
        "\n",
        "Firstly, we should remove accounts that are not often interacted with, that is, where media favs == 0. Also since the way we're crowdsourcing this data is highly subjective, we should set a low cutoff for follower count. We'll make this 1000. \n",
        "\n",
        "Secondle, we need a solid proxy for engagement. We can use the mean of median_favs / # of followers and median_rts / # of followers, so we'll create that column now. The resulting array features mostly small numbers which are difficult to compare so we'll also standardize the column. "
      ],
      "metadata": {
        "id": "ShXhMYlYcUYi",
        "colab_type": "text"
      }
    },
    {
      "cell_type": "code",
      "execution_count": 26,
      "source": [
        "def remove_low_engagement_accounts(df):\n",
        "    \n",
        "    working_df = df.copy()\n",
        "    \n",
        "    working_df = working_df.loc[(working_df['median_favs'] > 0) &\n",
        "                                (working_df['followers'] >= 1000)]\n",
        "    \n",
        "    return working_df\n",
        "\n",
        "influencers_df = remove_low_engagement_accounts(influencers_df)"
      ],
      "outputs": [],
      "metadata": {
        "id": "7dhQWmxuk2rk",
        "colab_type": "code",
        "colab": {}
      }
    },
    {
      "cell_type": "code",
      "execution_count": 28,
      "source": [
        "def create_engagement_metric(df):\n",
        "      \n",
        "    working_df = df.copy()\n",
        "    \n",
        "    from sklearn.preprocessing import MinMaxScaler\n",
        "    # Favorites\n",
        "    fav_eng_array = df['median_favs'] / df['followers']\n",
        "    scaler = MinMaxScaler().fit(fav_eng_array.values.reshape(-1, 1))\n",
        "    scaled_favs = scaler.transform(fav_eng_array.values.reshape(-1, 1))\n",
        "    \n",
        "    # Retweets\n",
        "    rt_eng_array = df['median_favs'] / df['followers']\n",
        "    scaler = MinMaxScaler().fit(rt_eng_array.values.reshape(-1, 1))\n",
        "    scaled_rts = scaler.transform(rt_eng_array.values.reshape(-1, 1))\n",
        "    \n",
        "    mean_eng = (scaled_favs + scaled_rts) / 2\n",
        "    working_df['engagement'] = mean_eng\n",
        "    \n",
        "    return working_df\n",
        "                                                \n",
        "\n",
        "influencers_df = create_engagement_metric(influencers_df)"
      ],
      "outputs": [],
      "metadata": {
        "id": "GGuRoEPkbhOY",
        "colab_type": "code",
        "colab": {}
      }
    },
    {
      "cell_type": "code",
      "execution_count": 29,
      "source": [
        "influencers_df.sort_values('engagement', ascending=False).head()"
      ],
      "outputs": [
        {
          "output_type": "execute_result",
          "data": {
            "text/html": [
              "<div>\n",
              "<style scoped>\n",
              "    .dataframe tbody tr th:only-of-type {\n",
              "        vertical-align: middle;\n",
              "    }\n",
              "\n",
              "    .dataframe tbody tr th {\n",
              "        vertical-align: top;\n",
              "    }\n",
              "\n",
              "    .dataframe thead th {\n",
              "        text-align: right;\n",
              "    }\n",
              "</style>\n",
              "<table border=\"1\" class=\"dataframe\">\n",
              "  <thead>\n",
              "    <tr style=\"text-align: right;\">\n",
              "      <th></th>\n",
              "      <th>user_id</th>\n",
              "      <th>screen_name</th>\n",
              "      <th>bio</th>\n",
              "      <th>followers</th>\n",
              "      <th>median_favs</th>\n",
              "      <th>median_rts</th>\n",
              "      <th>engagement</th>\n",
              "    </tr>\n",
              "  </thead>\n",
              "  <tbody>\n",
              "    <tr>\n",
              "      <th>52</th>\n",
              "      <td>1059273780</td>\n",
              "      <td>AdamMGrant</td>\n",
              "      <td>Organizational psychologist @Wharton. #1 NYT b...</td>\n",
              "      <td>476743</td>\n",
              "      <td>3581.5</td>\n",
              "      <td>855.5</td>\n",
              "      <td>1.000000</td>\n",
              "    </tr>\n",
              "    <tr>\n",
              "      <th>102</th>\n",
              "      <td>419027846</td>\n",
              "      <td>WilliamHartung</td>\n",
              "      <td>Expert on national security/foreign policy at ...</td>\n",
              "      <td>3107</td>\n",
              "      <td>22.5</td>\n",
              "      <td>12.0</td>\n",
              "      <td>0.963942</td>\n",
              "    </tr>\n",
              "    <tr>\n",
              "      <th>67</th>\n",
              "      <td>20749410</td>\n",
              "      <td>finkd</td>\n",
              "      <td></td>\n",
              "      <td>482639</td>\n",
              "      <td>1729.5</td>\n",
              "      <td>324.0</td>\n",
              "      <td>0.476679</td>\n",
              "    </tr>\n",
              "    <tr>\n",
              "      <th>70</th>\n",
              "      <td>952943103803101184</td>\n",
              "      <td>PretzelVoice</td>\n",
              "      <td>#VoiceFirst #AI * Founder at https://t.co/3UY1...</td>\n",
              "      <td>2633</td>\n",
              "      <td>9.0</td>\n",
              "      <td>0.0</td>\n",
              "      <td>0.454666</td>\n",
              "    </tr>\n",
              "    <tr>\n",
              "      <th>64</th>\n",
              "      <td>36711022</td>\n",
              "      <td>DanRather</td>\n",
              "      <td>Journalist, storyteller, lifelong reader. Texa...</td>\n",
              "      <td>2222471</td>\n",
              "      <td>6853.5</td>\n",
              "      <td>1106.5</td>\n",
              "      <td>0.410122</td>\n",
              "    </tr>\n",
              "  </tbody>\n",
              "</table>\n",
              "</div>"
            ],
            "text/plain": [
              "                user_id     screen_name  \\\n",
              "52           1059273780      AdamMGrant   \n",
              "102           419027846  WilliamHartung   \n",
              "67             20749410           finkd   \n",
              "70   952943103803101184    PretzelVoice   \n",
              "64             36711022       DanRather   \n",
              "\n",
              "                                                   bio  followers  \\\n",
              "52   Organizational psychologist @Wharton. #1 NYT b...     476743   \n",
              "102  Expert on national security/foreign policy at ...       3107   \n",
              "67                                                         482639   \n",
              "70   #VoiceFirst #AI * Founder at https://t.co/3UY1...       2633   \n",
              "64   Journalist, storyteller, lifelong reader. Texa...    2222471   \n",
              "\n",
              "     median_favs  median_rts  engagement  \n",
              "52        3581.5       855.5    1.000000  \n",
              "102         22.5        12.0    0.963942  \n",
              "67        1729.5       324.0    0.476679  \n",
              "70           9.0         0.0    0.454666  \n",
              "64        6853.5      1106.5    0.410122  "
            ]
          },
          "metadata": {},
          "execution_count": 29
        }
      ],
      "metadata": {
        "id": "2h3t57kgFUwV",
        "colab_type": "code",
        "outputId": "1592e3ec-2e33-4cf8-a0d4-fb88eeb0735a",
        "colab": {
          "base_uri": "https://localhost:8080/",
          "height": 204
        }
      }
    },
    {
      "cell_type": "markdown",
      "source": [
        "So that's a start on scraping some \"crowdsourced\" data from Twitter. From here it would be easy enough to generate some business level insights, but we'll save that for another notebook to keep this exercise concise. \n",
        "\n",
        "The next step for this project is to translate this \"notebook\" code into a production friendly .py file. "
      ],
      "metadata": {
        "id": "CkBno9kl8kWs",
        "colab_type": "text"
      }
    }
  ]
}