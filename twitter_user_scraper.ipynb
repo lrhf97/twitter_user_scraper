{
  "nbformat": 4,
  "nbformat_minor": 2,
  "metadata": {
    "colab": {
      "name": "twitter_user_scraper.ipynb",
      "version": "0.3.2",
      "provenance": [],
      "collapsed_sections": []
    },
    "kernelspec": {
      "name": "python3",
      "display_name": "Python 3.9.7 64-bit ('twit_env': conda)"
    },
    "language_info": {
      "name": "python",
      "version": "3.9.7"
    },
    "interpreter": {
      "hash": "d731139d9ad7e7749c450c5b8b50ae597506969cf6798becac77e3dbff3ddb16"
    }
  },
  "cells": [
    {
      "cell_type": "code",
      "execution_count": null,
      "source": [],
      "outputs": [],
      "metadata": {}
    },
    {
      "cell_type": "markdown",
      "source": [
        "# A Scraper for Twitter User Data \n",
        "\n",
        "This project utilizes the googlesearch module with Tweepy to create a dataset of Twitter users, sourced from user-generated Twitter lists that match a given keyword. By using lists like so, we can bulk identify accounts that match a keyword without having to trawl through user attributes like bios. Tweepy allows access to a plethora of user/status/list data, so once lists and the users contained in the lists have been scraped, the breadth of data that can be collected is expansive. \n",
        "\n",
        "For demonstration purposes, the project here pulls in favorite and retweet actions and creates a measurement of engagement for each user collected. \n",
        "\n",
        "This script takes several minutes to run, depending on how intensive the Google search and Twitter API requests are. For Google, a conservative random sleep timer is used to best prevent timeouts. For Twitter, the API is instantiated using wait_on_rate_limit=True, meaning that if the API's wait limit is exceeded, the function will wait until the API is available again rather than throwing an error. \n",
        "\n",
        "The project requires access to Twitter's API, so you will need to a developer account with Twitter. Set up an account and project here for free: https://developer.twitter.com/en/apply-for-access.\n",
        "\n",
        "The googlesearch module requires installation. Retrieve it here: https://github.com/MarioVilas/googlesearch. \n",
        "\n",
        "Notes:\n",
        "- The results_to_obtain parameter for scrape_influencers_use_google() is currently set to 50. Increase the number to retrieve more lists and more users. If the number is increased significantly, set the sleep time between each URL to a longer period to prevent being locked out by Google. \n",
        "- The list_contains_string parameter is the keyword you will use to search for lists. \n",
        "\n"
      ],
      "metadata": {
        "id": "xMW5RIhrJfq4",
        "colab_type": "text"
      }
    },
    {
      "cell_type": "code",
      "execution_count": null,
      "source": [
        "# Module imports \n",
        "import tweepy\n",
        "import time\n",
        "import pandas as pd\n",
        "import numpy as np\n",
        "import json\n",
        "import time\n",
        "from random import randint, random\n",
        "from googlesearch import search as gsearch\n",
        "import matplotlib.pyplot as plt\n",
        "import seaborn as sns\n",
        "%matplotlib inline"
      ],
      "outputs": [],
      "metadata": {
        "id": "bQkdi9K3JBx1",
        "colab_type": "code",
        "colab": {}
      }
    },
    {
      "cell_type": "markdown",
      "source": [
        "Authenticating to Twitter and creating the API connection.\n",
        "\n",
        "Assign the keys for your Twitter developer account to the approriate variables. "
      ],
      "metadata": {
        "id": "gqg7pcHspJ98",
        "colab_type": "text"
      }
    },
    {
      "cell_type": "code",
      "execution_count": null,
      "source": [
        "api_key = ''\n",
        "secret_key = ''\n",
        "access_token = ''\n",
        "secret_token = ''\n",
        "\n",
        "def authenticate(api_key, secret_key, access_token, secret_token):\n",
        "\n",
        "    auth = tweepy.OAuthHandler(api_key, secret_key)\n",
        "    auth.set_access_token(access_token, secret_token)\n",
        "    api = tweepy.API(auth, \n",
        "                     wait_on_rate_limit=True, \n",
        "                     wait_on_rate_limit_notify=True)\n",
        "  \n",
        "    return api\n",
        "\n",
        "\n",
        "api = authenticate(api_key, secret_key, access_token, secret_token)"
      ],
      "outputs": [],
      "metadata": {
        "id": "Z91j6XfBJSlc",
        "colab_type": "code",
        "colab": {}
      }
    },
    {
      "cell_type": "markdown",
      "source": [
        "Some api calls will result in a rate limit error. While this script in it's current iteration does not require this now, the function below will handle those if needed for any Tweepy requests. "
      ],
      "metadata": {
        "id": "2vWZeBZZo8FC",
        "colab_type": "text"
      }
    },
    {
      "cell_type": "code",
      "execution_count": null,
      "source": [
        "def limit_handled(cursor):\n",
        "    \n",
        "    while True:\n",
        "        try:\n",
        "            yield cursor.next()\n",
        "        except tweepy.RateLimitError:\n",
        "            time.sleep(2)\n",
        "            continue"
      ],
      "outputs": [],
      "metadata": {
        "id": "_KLxo3yOjxZL",
        "colab_type": "code",
        "colab": {}
      }
    },
    {
      "cell_type": "markdown",
      "source": [
        "Parameter notes:\n",
        "- list_contains_string - the list keyword to search for\n",
        "- results to obtain - number of results to be recorded\n",
        "\n",
        "Requesting a large number of results will likely cause Google to temporarily prevent access. "
      ],
      "metadata": {
        "id": "wa_p7hr_pWml",
        "colab_type": "text"
      }
    },
    {
      "cell_type": "code",
      "execution_count": null,
      "source": [
        "\n",
        "def scrape_lists_with_google(keyword_string, results_to_obtain):\n",
        "\n",
        "    list_urls = []\n",
        "\n",
        "    urls_checked = 0\n",
        "    urls_appended = 0\n",
        "    \n",
        "    # Perform the Google search, checking only the twitter.com domain\n",
        "    for url in gsearch(\"site:twitter.com lists \" + keyword_string, \n",
        "                      start=urls_checked, \n",
        "                      num=10, \n",
        "                      pause=randint(3, 5)):\n",
        "        \n",
        "        # Take URLs that contain Twitter's '/lists' subdomain\n",
        "        if '/lists/' in url:\n",
        "            list_urls.append(url)\n",
        "            urls_appended += 1\n",
        "            urls_checked += 1\n",
        "\n",
        "        # If Google is returning 5x as many non-list results as lists, break search\n",
        "        if urls_checked / urls_appended > 5:\n",
        "            break\n",
        "        \n",
        "        # If we reach our results # request limit, break the search\n",
        "        elif urls_appended >= results_to_obtain:\n",
        "            break\n",
        "        \n",
        "        # Sleep to prevent timeouts\n",
        "        time.sleep(randint(3, 5))\n",
        "\n",
        "    list_urls = [url[8:] for url in list_urls] # Removes leading https://\n",
        "\n",
        "    return list_urls\n",
        "  \n",
        "\n",
        "list_urls = scrape_lists_with_google(\"influencers\", 10)"
      ],
      "outputs": [],
      "metadata": {
        "id": "hHlsPsEVDYZ9",
        "colab_type": "code",
        "colab": {}
      }
    },
    {
      "cell_type": "markdown",
      "source": [
        "Getting the individual users and associated attributes is made easy with Tweepy. Using the API created earlier, this function returns a dataframe of individual users and associated Twitter attributes. "
      ],
      "metadata": {
        "id": "7nYmaoiCre3V",
        "colab_type": "text"
      }
    },
    {
      "cell_type": "code",
      "execution_count": null,
      "source": [
        "# Get user id, screen name, bio, follower count\n",
        "\n",
        "def get_users_in_lists(list_urls):\n",
        "  \n",
        "    users_list = []\n",
        "    bios_list = []\n",
        "    desc_list = []\n",
        "    follower_count_list = []\n",
        "    \n",
        "    for tw_list in list_urls:\n",
        "    \n",
        "        user = tw_list.split('/')[1]\n",
        "        list_name = tw_list.split('/')[3]\n",
        "\n",
        "        # Using Tweepy api, getting json of all users in list\n",
        "        list_members_output = api.list_members(user, list_name)\n",
        "\n",
        "        # Parsing json data and appending to appropriate lists instantiated above\n",
        "        for user_id in list_members_output:\n",
        "            users_list.append(user_id._json['id'])\n",
        "            bios_list.append(user_id._json['screen_name'])\n",
        "            desc_list.append(user_id._json['description'])\n",
        "            follower_count_list.append(user_id._json['followers_count'])\n",
        "            \n",
        "    zipped_data = zip(users_list, bios_list, desc_list, follower_count_list)\n",
        "    \n",
        "    # Creates a pandas dataframe containing user attributes\n",
        "    output_df = pd.DataFrame(list(zipped_data), columns=['user_id', \n",
        "                                                         'screen_name',\n",
        "                                                         'bio',\n",
        "                                                         'followers'])\n",
        "    # Dropping duplicate users if they were in multiple lists\n",
        "    output_df.drop_duplicates('user_id')\n",
        "    \n",
        "    output_df.set_index('user_id', inplace=True)\n",
        "    \n",
        "    return output_df\n",
        "  \n",
        "\n",
        "influencers_df = get_users_in_lists(list_urls)"
      ],
      "outputs": [],
      "metadata": {
        "id": "tSSWgKTCi-0A",
        "colab_type": "code",
        "colab": {}
      }
    },
    {
      "cell_type": "code",
      "execution_count": 16,
      "source": [
        "influencers_df.sort_values(by='followers', ascending=False).head()"
      ],
      "outputs": [
        {
          "output_type": "execute_result",
          "data": {
            "text/html": [
              "<div>\n",
              "<style scoped>\n",
              "    .dataframe tbody tr th:only-of-type {\n",
              "        vertical-align: middle;\n",
              "    }\n",
              "\n",
              "    .dataframe tbody tr th {\n",
              "        vertical-align: top;\n",
              "    }\n",
              "\n",
              "    .dataframe thead th {\n",
              "        text-align: right;\n",
              "    }\n",
              "</style>\n",
              "<table border=\"1\" class=\"dataframe\">\n",
              "  <thead>\n",
              "    <tr style=\"text-align: right;\">\n",
              "      <th></th>\n",
              "      <th>screen_name</th>\n",
              "      <th>bio</th>\n",
              "      <th>followers</th>\n",
              "    </tr>\n",
              "    <tr>\n",
              "      <th>user_id</th>\n",
              "      <th></th>\n",
              "      <th></th>\n",
              "      <th></th>\n",
              "    </tr>\n",
              "  </thead>\n",
              "  <tbody>\n",
              "    <tr>\n",
              "      <th>44409004</th>\n",
              "      <td>shakira</td>\n",
              "      <td>Shakira NADA https://t.co/50Yl0h1Xkh</td>\n",
              "      <td>51005025</td>\n",
              "    </tr>\n",
              "    <tr>\n",
              "      <th>115485051</th>\n",
              "      <td>ConanOBrien</td>\n",
              "      <td>The voice of the people. Sorry, people.</td>\n",
              "      <td>28457778</td>\n",
              "    </tr>\n",
              "    <tr>\n",
              "      <th>32959253</th>\n",
              "      <td>khloekardashian</td>\n",
              "      <td></td>\n",
              "      <td>26735374</td>\n",
              "    </tr>\n",
              "    <tr>\n",
              "      <th>268439864</th>\n",
              "      <td>xtina</td>\n",
              "      <td>#TheXperience LIVE in Vegas starting May 31st ...</td>\n",
              "      <td>16988954</td>\n",
              "    </tr>\n",
              "    <tr>\n",
              "      <th>40908929</th>\n",
              "      <td>Usher</td>\n",
              "      <td></td>\n",
              "      <td>12373871</td>\n",
              "    </tr>\n",
              "  </tbody>\n",
              "</table>\n",
              "</div>"
            ],
            "text/plain": [
              "               screen_name                                                bio  \\\n",
              "user_id                                                                         \n",
              "44409004           shakira               Shakira NADA https://t.co/50Yl0h1Xkh   \n",
              "115485051      ConanOBrien            The voice of the people. Sorry, people.   \n",
              "32959253   khloekardashian                                                      \n",
              "268439864            xtina  #TheXperience LIVE in Vegas starting May 31st ...   \n",
              "40908929             Usher                                                      \n",
              "\n",
              "           followers  \n",
              "user_id               \n",
              "44409004    51005025  \n",
              "115485051   28457778  \n",
              "32959253    26735374  \n",
              "268439864   16988954  \n",
              "40908929    12373871  "
            ]
          },
          "metadata": {
            "tags": []
          },
          "execution_count": 16
        }
      ],
      "metadata": {
        "id": "vZbjS6kuSfwm",
        "colab_type": "code",
        "outputId": "ac28dc5e-252b-4131-c872-72beee96ed47",
        "colab": {
          "base_uri": "https://localhost:8080/",
          "height": 235
        }
      }
    },
    {
      "cell_type": "markdown",
      "source": [
        "Accounts which are protected will not be accessible for the majority of Tweepy user object functionality. These need to be removed. \n",
        "\n",
        "When the API connection was built at the start of the script, the wait_on_rate_limit and wait_on_rate_limit_notify parameters were set to true. While those will catch a wait limit error, notify us, and go again when ready, this function checks a lot of users very quickly and will hit the rate limit most of the time if left alone. A sleep timer for each user has been set as a random float up to 0.2 (representing sleep up to 0.2s). This will not prevent rate limit errors 100% of the time but strikes a balance between error prevention and run time. \n",
        "\n",
        "Run time for this function is as such maximized at 0.2 * n_users seconds.\n"
      ],
      "metadata": {
        "id": "nh8Gr_O-_Xdi",
        "colab_type": "text"
      }
    },
    {
      "cell_type": "code",
      "execution_count": 17,
      "source": [
        "def remove_protected_accounts(users_df):\n",
        "    \n",
        "    working_df = users_df.copy()\n",
        "    protected_ids = []\n",
        "    \n",
        "    counter = 0\n",
        "    for index, row in users_df.iterrows():\n",
        "        user = api.get_user(id=index)._json\n",
        "        if user['protected'] == True:\n",
        "            protected_ids.append(index)\n",
        "        counter += 1\n",
        "        if counter % 100 == 0:\n",
        "            print(str(counter) + '/' + str(len(working_df)) + ' IDs checked')\n",
        "            print('Protected IDs found:', len(protected_ids), '\\n')\n",
        "        # Sleeping for up to 0.2s helps not to exceed Tweepy's rate limit.\n",
        "        time.sleep(random() / 5)\n",
        "    \n",
        "    working_df.drop(labels=protected_ids, inplace=True)\n",
        "    working_df.reset_index(inplace=True)\n",
        "            \n",
        "    return working_df\n",
        "            \n",
        "\n",
        "influencers_df = remove_protected_accounts(influencers_df)"
      ],
      "outputs": [
        {
          "output_type": "stream",
          "name": "stdout",
          "text": [
            "100/200 IDs checked\n",
            "Protected IDs found: 1 \n",
            "\n",
            "200/200 IDs checked\n",
            "Protected IDs found: 3 \n",
            "\n"
          ]
        }
      ],
      "metadata": {
        "id": "F_W70DGAbJUX",
        "colab_type": "code",
        "outputId": "02062895-cabc-4fcc-9e97-a299b4a635c8",
        "colab": {
          "base_uri": "https://localhost:8080/",
          "height": 119
        }
      }
    },
    {
      "cell_type": "markdown",
      "source": [
        "Now protected accounts have been removed, engagements with users' tweets can be examined. We can't access actual impressions for tweets, but we can access some engagement actions (favorites, retweets) for tweets. By looking at engagement actions in relation to the number of followers a user has, we can see how much their audience is engaged with that user's content. \n",
        "\n",
        "While this particular notebook just overviews the scraping code, it's a helpful excercise to generate some additional data to demonstrate a use case. As we've been looking at influencers for the purposes of this script, we can get a fairly good measurement of how effective an influencer might be by looking at metrics like this. \n",
        "\n"
      ],
      "metadata": {
        "id": "GTlVXskl176A",
        "colab_type": "text"
      }
    },
    {
      "cell_type": "code",
      "execution_count": 18,
      "source": [
        "def calc_median_favorites(user_id):\n",
        "    \n",
        "    fav_list = []\n",
        "    tweets = api.user_timeline(id=user_id, count=100)\n",
        "    \n",
        "    for tweet in tweets:\n",
        "        # Remove retweets\n",
        "        if tweet._json['text'].startswith('RT'):\n",
        "            continue\n",
        "        # Remove replies\n",
        "        elif tweet._json['text'].startswith('@'):\n",
        "            continue\n",
        "        else:\n",
        "            fav_list.append(tweet._json['favorite_count'])\n",
        "    \n",
        "    time.sleep(random() / 5)\n",
        "    \n",
        "    return np.median(fav_list)  \n",
        "\n",
        "\n",
        "influencers_df['median_favs'] = influencers_df['user_id'].apply(lambda x: calc_median_favorites(x))"
      ],
      "outputs": [
        {
          "output_type": "stream",
          "name": "stderr",
          "text": [
            "/usr/local/lib/python3.6/dist-packages/numpy/core/fromnumeric.py:2957: RuntimeWarning: Mean of empty slice.\n",
            "  out=out, **kwargs)\n"
          ]
        }
      ],
      "metadata": {
        "id": "0fPlPDdVZOzz",
        "colab_type": "code",
        "outputId": "a56bedcd-9a9e-4588-bbce-553ee7898588",
        "colab": {
          "base_uri": "https://localhost:8080/",
          "height": 51
        }
      }
    },
    {
      "cell_type": "code",
      "execution_count": 19,
      "source": [
        "def calc_median_retweets(user_id):\n",
        "    \n",
        "    rt_list = []\n",
        "    tweets = api.user_timeline(id=user_id, count=100)\n",
        "    \n",
        "    for tweet in tweets:\n",
        "        if tweet._json['text'].startswith('RT'):\n",
        "            continue\n",
        "        else:\n",
        "            rt_list.append(tweet._json['retweet_count'])\n",
        "    \n",
        "    time.sleep(random() / 5)\n",
        "    \n",
        "    return np.median(rt_list)  \n",
        "\n",
        "\n",
        "influencers_df['median_rts'] = influencers_df['user_id'].apply(lambda x: calc_median_retweets(x))"
      ],
      "outputs": [
        {
          "output_type": "stream",
          "name": "stderr",
          "text": [
            "/usr/local/lib/python3.6/dist-packages/numpy/core/fromnumeric.py:2957: RuntimeWarning: Mean of empty slice.\n",
            "  out=out, **kwargs)\n"
          ]
        }
      ],
      "metadata": {
        "id": "1apvWYVwalN9",
        "colab_type": "code",
        "outputId": "d4467c89-add6-4b8e-983c-10bd8a1d40af",
        "colab": {
          "base_uri": "https://localhost:8080/",
          "height": 51
        }
      }
    },
    {
      "cell_type": "code",
      "execution_count": 27,
      "source": [
        "influencers_df[5:10]"
      ],
      "outputs": [
        {
          "output_type": "execute_result",
          "data": {
            "text/html": [
              "<div>\n",
              "<style scoped>\n",
              "    .dataframe tbody tr th:only-of-type {\n",
              "        vertical-align: middle;\n",
              "    }\n",
              "\n",
              "    .dataframe tbody tr th {\n",
              "        vertical-align: top;\n",
              "    }\n",
              "\n",
              "    .dataframe thead th {\n",
              "        text-align: right;\n",
              "    }\n",
              "</style>\n",
              "<table border=\"1\" class=\"dataframe\">\n",
              "  <thead>\n",
              "    <tr style=\"text-align: right;\">\n",
              "      <th></th>\n",
              "      <th>user_id</th>\n",
              "      <th>screen_name</th>\n",
              "      <th>bio</th>\n",
              "      <th>followers</th>\n",
              "      <th>median_favs</th>\n",
              "      <th>median_rts</th>\n",
              "      <th>engagement</th>\n",
              "    </tr>\n",
              "  </thead>\n",
              "  <tbody>\n",
              "    <tr>\n",
              "      <th>5</th>\n",
              "      <td>214164173</td>\n",
              "      <td>DrJaneChi</td>\n",
              "      <td>Family physician, intersectional feminist, cat...</td>\n",
              "      <td>13669</td>\n",
              "      <td>24.5</td>\n",
              "      <td>0.0</td>\n",
              "      <td>1.0</td>\n",
              "    </tr>\n",
              "    <tr>\n",
              "      <th>6</th>\n",
              "      <td>212657985</td>\n",
              "      <td>michelleinbklyn</td>\n",
              "      <td>NYT columnist; co-host of The Argument podcast...</td>\n",
              "      <td>70811</td>\n",
              "      <td>202.0</td>\n",
              "      <td>35.0</td>\n",
              "      <td>1.0</td>\n",
              "    </tr>\n",
              "    <tr>\n",
              "      <th>7</th>\n",
              "      <td>189896485</td>\n",
              "      <td>emmacargo</td>\n",
              "      <td>writer, @ProblemAreasHBO. former editor, @Jeze...</td>\n",
              "      <td>25238</td>\n",
              "      <td>73.0</td>\n",
              "      <td>0.0</td>\n",
              "      <td>1.0</td>\n",
              "    </tr>\n",
              "    <tr>\n",
              "      <th>8</th>\n",
              "      <td>142721190</td>\n",
              "      <td>elisefoley</td>\n",
              "      <td>HuffPost. Email: elise dot foley at huffpost d...</td>\n",
              "      <td>61281</td>\n",
              "      <td>11.5</td>\n",
              "      <td>0.0</td>\n",
              "      <td>1.0</td>\n",
              "    </tr>\n",
              "    <tr>\n",
              "      <th>9</th>\n",
              "      <td>87070315</td>\n",
              "      <td>ingridnilsen</td>\n",
              "      <td>Curious mind. Adventurous heart. Eater of all ...</td>\n",
              "      <td>1196067</td>\n",
              "      <td>71.5</td>\n",
              "      <td>4.0</td>\n",
              "      <td>1.0</td>\n",
              "    </tr>\n",
              "  </tbody>\n",
              "</table>\n",
              "</div>"
            ],
            "text/plain": [
              "     user_id      screen_name  \\\n",
              "5  214164173        DrJaneChi   \n",
              "6  212657985  michelleinbklyn   \n",
              "7  189896485        emmacargo   \n",
              "8  142721190       elisefoley   \n",
              "9   87070315     ingridnilsen   \n",
              "\n",
              "                                                 bio  followers  median_favs  \\\n",
              "5  Family physician, intersectional feminist, cat...      13669         24.5   \n",
              "6  NYT columnist; co-host of The Argument podcast...      70811        202.0   \n",
              "7  writer, @ProblemAreasHBO. former editor, @Jeze...      25238         73.0   \n",
              "8  HuffPost. Email: elise dot foley at huffpost d...      61281         11.5   \n",
              "9  Curious mind. Adventurous heart. Eater of all ...    1196067         71.5   \n",
              "\n",
              "   median_rts  engagement  \n",
              "5         0.0         1.0  \n",
              "6        35.0         1.0  \n",
              "7         0.0         1.0  \n",
              "8         0.0         1.0  \n",
              "9         4.0         1.0  "
            ]
          },
          "metadata": {
            "tags": []
          },
          "execution_count": 27
        }
      ],
      "metadata": {
        "id": "35abBVjAVTlf",
        "colab_type": "code",
        "outputId": "ecad73b9-18ce-4f28-fd5f-de0bc2f14f7a",
        "colab": {
          "base_uri": "https://localhost:8080/",
          "height": 204
        }
      }
    },
    {
      "cell_type": "markdown",
      "source": [
        "We've likely got a notification above for a RuntimeWarning. This is numpy trying to take the median of of an empty array, that is, accounts that have never tweeted. Those accounts are visbile in the data as they have nan values under median_favs and/or median_rts. We can check to see if any exist using a heatmap for null values. "
      ],
      "metadata": {
        "id": "rAtWyt4KKf7e",
        "colab_type": "text"
      }
    },
    {
      "cell_type": "code",
      "execution_count": 21,
      "source": [
        "sns.heatmap(influencers_df.isnull())"
      ],
      "outputs": [
        {
          "output_type": "execute_result",
          "data": {
            "text/plain": [
              "<matplotlib.axes._subplots.AxesSubplot at 0x7f342f3654a8>"
            ]
          },
          "metadata": {
            "tags": []
          },
          "execution_count": 21
        },
        {
          "output_type": "display_data",
          "data": {
            "image/png": "[encoded data removed]",
            "text/plain": [
              "<Figure size 432x288 with 2 Axes>"
            ]
          },
          "metadata": {
            "tags": []
          }
        }
      ],
      "metadata": {
        "id": "4pgOyK1p3nt1",
        "colab_type": "code",
        "outputId": "83a8f992-6cdd-4697-cbb6-e1dadb16ed04",
        "colab": {
          "base_uri": "https://localhost:8080/",
          "height": 286
        }
      }
    },
    {
      "cell_type": "markdown",
      "source": [
        "Since there are nulls, we'll remove those and be left with a clean dataset. Creating a heatmap again confirms this. "
      ],
      "metadata": {
        "id": "naaOwkn_bVBW",
        "colab_type": "text"
      }
    },
    {
      "cell_type": "code",
      "execution_count": 22,
      "source": [
        "influencers_df = influencers_df.loc[~influencers_df['median_favs'].isnull()]\n",
        "sns.heatmap(influencers_df.isnull())"
      ],
      "outputs": [
        {
          "output_type": "execute_result",
          "data": {
            "text/plain": [
              "<matplotlib.axes._subplots.AxesSubplot at 0x7f342bdebb38>"
            ]
          },
          "metadata": {
            "tags": []
          },
          "execution_count": 22
        },
        {
          "output_type": "display_data",
          "data": {
            "image/png": "[encoded data removed]",
            "text/plain": [
              "<Figure size 432x288 with 2 Axes>"
            ]
          },
          "metadata": {
            "tags": []
          }
        }
      ],
      "metadata": {
        "id": "nWKLf31ubZ2g",
        "colab_type": "code",
        "outputId": "7c5f1b85-0eaa-4cb4-ab68-b5b6691e5064",
        "colab": {
          "base_uri": "https://localhost:8080/",
          "height": 286
        }
      }
    },
    {
      "cell_type": "markdown",
      "source": [
        "Now, to create some kind of engagement metric. \n",
        "\n",
        "Firstly, we should remove accounts that are not often interacted with, that is, where media favs == 0. Also since the way we're crowdsourcing this data is highly subjective, we should set a low cutoff for follower count. We'll make this 1000. \n",
        "\n",
        "Secondle, we need a solid proxy for engagement. We can use the mean of median_favs / # of followers and median_rts / # of followers, so we'll create that column now. The resulting array features mostly small numbers which are difficult to compare so we'll also standardize the column. "
      ],
      "metadata": {
        "id": "ShXhMYlYcUYi",
        "colab_type": "text"
      }
    },
    {
      "cell_type": "code",
      "execution_count": null,
      "source": [
        "def remove_low_engagement_accounts(df):\n",
        "    \n",
        "    working_df = df.copy()\n",
        "    \n",
        "    working_df = working_df.loc[(working_df['median_favs'] > 0) &\n",
        "                                (working_df['followers'] >= 1000)]\n",
        "    \n",
        "    return working_df\n",
        "\n",
        "influencers_df = remove_low_engagement_accounts(influencers_df)"
      ],
      "outputs": [],
      "metadata": {
        "id": "7dhQWmxuk2rk",
        "colab_type": "code",
        "colab": {}
      }
    },
    {
      "cell_type": "code",
      "execution_count": null,
      "source": [
        "def create_engagement_metric(df):\n",
        "      \n",
        "    working_df = df.copy()\n",
        "    \n",
        "    from sklearn.preprocessing import MinMaxScaler\n",
        "    # Favorites\n",
        "    fav_eng_array = df['median_favs'] / df['followers']\n",
        "    scaler = MinMaxScaler().fit(fav_eng_array.values.reshape(-1, 1))\n",
        "    scaled_favs = scaler.transform(fav_eng_array.values.reshape(-1, 1))\n",
        "    \n",
        "    # Retweets\n",
        "    rt_eng_array = df['median_favs'] / df['followers']\n",
        "    scaler = MinMaxScaler().fit(rt_eng_array.values.reshape(-1, 1))\n",
        "    scaled_rts = scaler.transform(rt_eng_array.values.reshape(-1, 1))\n",
        "    \n",
        "    mean_eng = (scaled_favs + scaled_rts) / 2\n",
        "    working_df['engagement'] = mean_eng\n",
        "    \n",
        "    return working_df\n",
        "                                                \n",
        "\n",
        "influencers_df = create_engagement_metric(influencers_df)"
      ],
      "outputs": [],
      "metadata": {
        "id": "GGuRoEPkbhOY",
        "colab_type": "code",
        "colab": {}
      }
    },
    {
      "cell_type": "code",
      "execution_count": 39,
      "source": [
        "influencers_df.sort_values('engagement', ascending=False).head()"
      ],
      "outputs": [
        {
          "output_type": "execute_result",
          "data": {
            "text/html": [
              "<div>\n",
              "<style scoped>\n",
              "    .dataframe tbody tr th:only-of-type {\n",
              "        vertical-align: middle;\n",
              "    }\n",
              "\n",
              "    .dataframe tbody tr th {\n",
              "        vertical-align: top;\n",
              "    }\n",
              "\n",
              "    .dataframe thead th {\n",
              "        text-align: right;\n",
              "    }\n",
              "</style>\n",
              "<table border=\"1\" class=\"dataframe\">\n",
              "  <thead>\n",
              "    <tr style=\"text-align: right;\">\n",
              "      <th></th>\n",
              "      <th>user_id</th>\n",
              "      <th>screen_name</th>\n",
              "      <th>bio</th>\n",
              "      <th>followers</th>\n",
              "      <th>median_favs</th>\n",
              "      <th>median_rts</th>\n",
              "      <th>engagement</th>\n",
              "    </tr>\n",
              "  </thead>\n",
              "  <tbody>\n",
              "    <tr>\n",
              "      <th>109</th>\n",
              "      <td>3511081273</td>\n",
              "      <td>davearterburn</td>\n",
              "      <td>Internal medicine doc &amp; researcher @KPWaResear...</td>\n",
              "      <td>1375</td>\n",
              "      <td>15.5</td>\n",
              "      <td>4.0</td>\n",
              "      <td>1.000000</td>\n",
              "    </tr>\n",
              "    <tr>\n",
              "      <th>101</th>\n",
              "      <td>778425499387326465</td>\n",
              "      <td>PaulDavidsonPhD</td>\n",
              "      <td>Director of Behavioral Health, Center for Meta...</td>\n",
              "      <td>2090</td>\n",
              "      <td>19.0</td>\n",
              "      <td>3.0</td>\n",
              "      <td>0.806384</td>\n",
              "    </tr>\n",
              "    <tr>\n",
              "      <th>107</th>\n",
              "      <td>3676486649</td>\n",
              "      <td>RaulRosenthalMD</td>\n",
              "      <td>Chairman, Department of General Surgery, Direc...</td>\n",
              "      <td>2155</td>\n",
              "      <td>15.0</td>\n",
              "      <td>1.0</td>\n",
              "      <td>0.617335</td>\n",
              "    </tr>\n",
              "    <tr>\n",
              "      <th>103</th>\n",
              "      <td>731838301599059968</td>\n",
              "      <td>JaimePonceMD</td>\n",
              "      <td>Bariatric Surgeon, ASMBS Past-President @ASMBS...</td>\n",
              "      <td>2509</td>\n",
              "      <td>11.5</td>\n",
              "      <td>2.0</td>\n",
              "      <td>0.406393</td>\n",
              "    </tr>\n",
              "    <tr>\n",
              "      <th>108</th>\n",
              "      <td>3612178336</td>\n",
              "      <td>PSchauerMD</td>\n",
              "      <td>Chief, Minimally Invasive General #Surgery &amp; D...</td>\n",
              "      <td>3299</td>\n",
              "      <td>15.0</td>\n",
              "      <td>3.0</td>\n",
              "      <td>0.403139</td>\n",
              "    </tr>\n",
              "  </tbody>\n",
              "</table>\n",
              "</div>"
            ],
            "text/plain": [
              "                user_id      screen_name  \\\n",
              "109          3511081273    davearterburn   \n",
              "101  778425499387326465  PaulDavidsonPhD   \n",
              "107          3676486649  RaulRosenthalMD   \n",
              "103  731838301599059968     JaimePonceMD   \n",
              "108          3612178336       PSchauerMD   \n",
              "\n",
              "                                                   bio  followers  \\\n",
              "109  Internal medicine doc & researcher @KPWaResear...       1375   \n",
              "101  Director of Behavioral Health, Center for Meta...       2090   \n",
              "107  Chairman, Department of General Surgery, Direc...       2155   \n",
              "103  Bariatric Surgeon, ASMBS Past-President @ASMBS...       2509   \n",
              "108  Chief, Minimally Invasive General #Surgery & D...       3299   \n",
              "\n",
              "     median_favs  median_rts  engagement  \n",
              "109         15.5         4.0    1.000000  \n",
              "101         19.0         3.0    0.806384  \n",
              "107         15.0         1.0    0.617335  \n",
              "103         11.5         2.0    0.406393  \n",
              "108         15.0         3.0    0.403139  "
            ]
          },
          "metadata": {
            "tags": []
          },
          "execution_count": 39
        }
      ],
      "metadata": {
        "id": "2h3t57kgFUwV",
        "colab_type": "code",
        "outputId": "1592e3ec-2e33-4cf8-a0d4-fb88eeb0735a",
        "colab": {
          "base_uri": "https://localhost:8080/",
          "height": 204
        }
      }
    },
    {
      "cell_type": "markdown",
      "source": [
        "So that's a start on scraping some \"crowdsourced\" data from Twitter. From here it would be easy enough to generate some business level insights, but we'll save that for another notebook to keep this exercise concise. \n",
        "\n",
        "The next step for this project is to translate this \"notebook\" code into a production friendly .py file. "
      ],
      "metadata": {
        "id": "CkBno9kl8kWs",
        "colab_type": "text"
      }
    }
  ]
}