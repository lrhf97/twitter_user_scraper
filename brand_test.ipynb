{
 "cells": [
  {
   "cell_type": "markdown",
   "source": [
    "## Import and Twitter Auth"
   ],
   "metadata": {}
  },
  {
   "cell_type": "code",
   "execution_count": 1,
   "source": [
    "# Module imports \n",
    "import tweepy\n",
    "import time\n",
    "import pandas as pd\n",
    "import numpy as np\n",
    "import json\n",
    "import time\n",
    "from random import randint, random\n",
    "from googlesearch import search as gsearch\n",
    "import matplotlib.pyplot as plt\n",
    "import seaborn as sns\n",
    "%matplotlib inline\n",
    "import pathlib\n",
    "import os\n",
    "from dotenv import load_dotenv\n",
    "\n",
    "# name the file we want\n",
    "env_file_name = 'lrhf97_twit_cred.env'\n",
    "parent_dir = pathlib.Path.cwd().parent\n",
    "\n",
    "env_path = parent_dir.joinpath(env_file_name)\n",
    "\n",
    "load_dotenv(env_path)\n",
    "test_cred = os.getenv(\"test_cred\")\n",
    "\n",
    "api_key = os.getenv(\"API_KEY\")\n",
    "secret_key = os.getenv(\"API_SECRET\")\n",
    "access_token = ''\n",
    "secret_token = ''\n",
    "\n",
    "def authenticate(api_key, secret_key, access_token, secret_token):\n",
    "\n",
    "    auth = tweepy.OAuthHandler(api_key, secret_key)\n",
    "    auth.set_access_token(access_token, secret_token)\n",
    "    api = tweepy.API(auth, \n",
    "                     wait_on_rate_limit=True, \n",
    "                     wait_on_rate_limit_notify=True)\n",
    "  \n",
    "    return api\n",
    "    \n",
    "api = authenticate(api_key, secret_key, access_token, secret_token)"
   ],
   "outputs": [],
   "metadata": {}
  },
  {
   "cell_type": "markdown",
   "source": [
    "## Twitter Search term selction"
   ],
   "metadata": {}
  },
  {
   "cell_type": "code",
   "execution_count": 3,
   "source": [
    "text_query = '2020 US Election'\n",
    "count = 15\n",
    "try:\n",
    " # Creation of query method using parameters\n",
    "    tweets = tweepy.Cursor(api.search,q=text_query).items(count)\n",
    " \n",
    " # Pulling information from tweets iterable object\n",
    "    tweets_list = [[tweet.created_at, tweet.id, tweet.text] for tweet in tweets]\n",
    " \n",
    " # Creation of dataframe from tweets list\n",
    " # Add or remove columns as you remove tweet information\n",
    "    tweetsQ_df = pd.DataFrame(tweets_list)\n",
    " \n",
    "except BaseException as e:\n",
    "    print('failed on_status,',str(e))\n",
    "    time.sleep(3)"
   ],
   "outputs": [],
   "metadata": {}
  },
  {
   "cell_type": "markdown",
   "source": [
    "### Extract Coordinates and Place"
   ],
   "metadata": {}
  },
  {
   "cell_type": "code",
   "execution_count": 2,
   "source": [
    "# Function created to extract coordinates from tweet if it has coordinate info\n",
    "# Tweets tend to have null so important to run check\n",
    "# Make sure to run this cell as it is used in a lot of different functions below\n",
    "def extract_coordinates(row):\n",
    "    if row['Tweet Coordinates']:\n",
    "        return row['Tweet Coordinates']['coordinates']\n",
    "    else:\n",
    "        return None\n",
    "        \n",
    "# Function created to extract place such as city, state or country from tweet if it has place info\n",
    "# Tweets tend to have null so important to run check\n",
    "# Make sure to run this cell as it is used in a lot of different functions below\n",
    "def extract_place(row):\n",
    "    if row['Place Info']:\n",
    "        return row['Place Info'].full_name\n",
    "    else:\n",
    "        return None"
   ],
   "outputs": [],
   "metadata": {}
  },
  {
   "cell_type": "code",
   "execution_count": 4,
   "source": [
    "text_query = '@RidgeSupply'\n",
    "count = 15\n",
    "\n",
    "tweets = tweepy.Cursor(api.search, q=text_query,tweet_mode='extended').items(count)\n",
    "\n",
    "# Pulling information from tweets iterable \n",
    "tweets_list = [[tweet.full_text, tweet.created_at, tweet.id_str, tweet.user.screen_name,tweet.user.location, tweet.coordinates, tweet.place, tweet.retweet_count, tweet.favorite_count, tweet.lang, tweet.source, tweet.in_reply_to_status_id_str, tweet.in_reply_to_user_id_str, tweet.is_quote_status] for tweet in tweets]\n",
    "\n",
    "# Creation of dataframe from tweets list\n",
    "tweetsINFO_df = pd.DataFrame(tweets_list,columns=['Tweet Text', 'Tweet Datetime', 'Tweet Id', 'Twitter @ Name','User Home Base', 'Tweet Coordinates', 'Place Info', 'Retweets', 'Favorites', 'Language', 'Source', 'Replied Tweet Id', 'Replied Tweet User Id Str', 'Quote Status Bool'])\n",
    "\n",
    "# Checks if there are coordinates attached to tweets, if so extracts them\n",
    "tweetsINFO_df['Tweet Coordinates'] = tweetsINFO_df.apply(extract_coordinates,axis=1)\n",
    " \n",
    "# Checks if there is place information available, if so extracts them\n",
    "tweetsINFO_df['Place Info'] = tweetsINFO_df.apply(extract_place,axis=1)"
   ],
   "outputs": [],
   "metadata": {}
  },
  {
   "cell_type": "code",
   "execution_count": 5,
   "source": [
    "tweetsINFO_df"
   ],
   "outputs": [
    {
     "output_type": "execute_result",
     "data": {
      "text/html": [
       "<div>\n",
       "<style scoped>\n",
       "    .dataframe tbody tr th:only-of-type {\n",
       "        vertical-align: middle;\n",
       "    }\n",
       "\n",
       "    .dataframe tbody tr th {\n",
       "        vertical-align: top;\n",
       "    }\n",
       "\n",
       "    .dataframe thead th {\n",
       "        text-align: right;\n",
       "    }\n",
       "</style>\n",
       "<table border=\"1\" class=\"dataframe\">\n",
       "  <thead>\n",
       "    <tr style=\"text-align: right;\">\n",
       "      <th></th>\n",
       "      <th>Tweet Text</th>\n",
       "      <th>Tweet Datetime</th>\n",
       "      <th>Tweet Id</th>\n",
       "      <th>Twitter @ Name</th>\n",
       "      <th>User Home Base</th>\n",
       "      <th>Tweet Coordinates</th>\n",
       "      <th>Place Info</th>\n",
       "      <th>Retweets</th>\n",
       "      <th>Favorites</th>\n",
       "      <th>Language</th>\n",
       "      <th>Source</th>\n",
       "      <th>Replied Tweet Id</th>\n",
       "      <th>Replied Tweet User Id Str</th>\n",
       "      <th>Quote Status Bool</th>\n",
       "    </tr>\n",
       "  </thead>\n",
       "  <tbody>\n",
       "    <tr>\n",
       "      <th>0</th>\n",
       "      <td>Another Day, Another Ride. Hmm, which socks sh...</td>\n",
       "      <td>2021-09-16 18:00:47</td>\n",
       "      <td>1438563532056969216</td>\n",
       "      <td>DumbMoney_AMC</td>\n",
       "      <td></td>\n",
       "      <td>None</td>\n",
       "      <td>None</td>\n",
       "      <td>0</td>\n",
       "      <td>0</td>\n",
       "      <td>en</td>\n",
       "      <td>Twitter for Android</td>\n",
       "      <td>None</td>\n",
       "      <td>None</td>\n",
       "      <td>False</td>\n",
       "    </tr>\n",
       "    <tr>\n",
       "      <th>1</th>\n",
       "      <td>RT @leroys_dog: Dear Matt @ridgesupply -\\n\\nle...</td>\n",
       "      <td>2021-09-15 15:51:18</td>\n",
       "      <td>1438168557691473924</td>\n",
       "      <td>joand315</td>\n",
       "      <td>Chicago</td>\n",
       "      <td>None</td>\n",
       "      <td>None</td>\n",
       "      <td>1</td>\n",
       "      <td>0</td>\n",
       "      <td>en</td>\n",
       "      <td>Twitter for Android</td>\n",
       "      <td>None</td>\n",
       "      <td>None</td>\n",
       "      <td>False</td>\n",
       "    </tr>\n",
       "    <tr>\n",
       "      <th>2</th>\n",
       "      <td>Dear Matt @ridgesupply -\\n\\nleroy figured your...</td>\n",
       "      <td>2021-09-15 14:00:38</td>\n",
       "      <td>1438140708070830080</td>\n",
       "      <td>leroys_dog</td>\n",
       "      <td>Brooklyn, NY</td>\n",
       "      <td>None</td>\n",
       "      <td>None</td>\n",
       "      <td>1</td>\n",
       "      <td>1</td>\n",
       "      <td>en</td>\n",
       "      <td>Twitter for iPhone</td>\n",
       "      <td>None</td>\n",
       "      <td>None</td>\n",
       "      <td>False</td>\n",
       "    </tr>\n",
       "  </tbody>\n",
       "</table>\n",
       "</div>"
      ],
      "text/plain": [
       "                                          Tweet Text      Tweet Datetime  \\\n",
       "0  Another Day, Another Ride. Hmm, which socks sh... 2021-09-16 18:00:47   \n",
       "1  RT @leroys_dog: Dear Matt @ridgesupply -\\n\\nle... 2021-09-15 15:51:18   \n",
       "2  Dear Matt @ridgesupply -\\n\\nleroy figured your... 2021-09-15 14:00:38   \n",
       "\n",
       "              Tweet Id Twitter @ Name User Home Base Tweet Coordinates  \\\n",
       "0  1438563532056969216  DumbMoney_AMC                             None   \n",
       "1  1438168557691473924       joand315        Chicago              None   \n",
       "2  1438140708070830080     leroys_dog   Brooklyn, NY              None   \n",
       "\n",
       "  Place Info  Retweets  Favorites Language               Source  \\\n",
       "0       None         0          0       en  Twitter for Android   \n",
       "1       None         1          0       en  Twitter for Android   \n",
       "2       None         1          1       en   Twitter for iPhone   \n",
       "\n",
       "  Replied Tweet Id Replied Tweet User Id Str  Quote Status Bool  \n",
       "0             None                      None              False  \n",
       "1             None                      None              False  \n",
       "2             None                      None              False  "
      ]
     },
     "metadata": {},
     "execution_count": 5
    }
   ],
   "metadata": {}
  },
  {
   "cell_type": "code",
   "execution_count": 17,
   "source": [
    "tweetsINFO_df['Tweet Text'][0]"
   ],
   "outputs": [
    {
     "output_type": "execute_result",
     "data": {
      "text/plain": [
       "'RT @SaltyMacTavish: Thinking of buying a new 24’ fiberglass extension ladder but I also have oak I could rive into rounds and sassafras I c…'"
      ]
     },
     "metadata": {},
     "execution_count": 17
    }
   ],
   "metadata": {}
  },
  {
   "cell_type": "code",
   "execution_count": null,
   "source": [],
   "outputs": [],
   "metadata": {}
  }
 ],
 "metadata": {
  "orig_nbformat": 4,
  "language_info": {
   "name": "python",
   "version": "3.9.7",
   "mimetype": "text/x-python",
   "codemirror_mode": {
    "name": "ipython",
    "version": 3
   },
   "pygments_lexer": "ipython3",
   "nbconvert_exporter": "python",
   "file_extension": ".py"
  },
  "kernelspec": {
   "name": "python3",
   "display_name": "Python 3.9.7 64-bit (conda)"
  },
  "interpreter": {
   "hash": "d731139d9ad7e7749c450c5b8b50ae597506969cf6798becac77e3dbff3ddb16"
  }
 },
 "nbformat": 4,
 "nbformat_minor": 2
}